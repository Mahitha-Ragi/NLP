{
  "nbformat": 4,
  "nbformat_minor": 0,
  "metadata": {
    "colab": {
      "name": "Untitled4.ipynb",
      "provenance": [],
      "authorship_tag": "ABX9TyOyvclotF0PG2w9AhQkzxaV",
      "include_colab_link": true
    },
    "kernelspec": {
      "name": "python3",
      "display_name": "Python 3"
    },
    "language_info": {
      "name": "python"
    }
  },
  "cells": [
    {
      "cell_type": "markdown",
      "metadata": {
        "id": "view-in-github",
        "colab_type": "text"
      },
      "source": [
        "<a href=\"https://colab.research.google.com/github/Mahitha-Ragi/NLP/blob/main/Asn1.ipynb\" target=\"_parent\"><img src=\"https://colab.research.google.com/assets/colab-badge.svg\" alt=\"Open In Colab\"/></a>"
      ]
    },
    {
      "cell_type": "code",
      "execution_count": 5,
      "metadata": {
        "colab": {
          "base_uri": "https://localhost:8080/"
        },
        "id": "VQBUXl0-WMAW",
        "outputId": "9ead55b8-70b2-4c32-c2bf-42a40fe38bc7"
      },
      "outputs": [
        {
          "output_type": "stream",
          "name": "stdout",
          "text": [
            "Word : cats \n",
            "Stemmed Word : cat \n",
            "Lemma : cat\n",
            "\n",
            "Word : trouble \n",
            "Stemmed Word : troubl \n",
            "Lemma : trouble\n",
            "\n",
            "Word : troubling \n",
            "Stemmed Word : troubl \n",
            "Lemma : troubling\n",
            "\n",
            "Word : troubled \n",
            "Stemmed Word : troubl \n",
            "Lemma : troubled\n",
            "\n",
            "Word : having \n",
            "Stemmed Word : have \n",
            "Lemma : having\n",
            "\n",
            "Word : corriendo \n",
            "Stemmed Word : corriendo \n",
            "Lemma : corriendo\n",
            "\n",
            "Word : at \n",
            "Stemmed Word : at \n",
            "Lemma : at\n",
            "\n",
            "Word : was \n",
            "Stemmed Word : wa \n",
            "Lemma : wa\n",
            "\n"
          ]
        }
      ],
      "source": [
        "# Find stem and lemma words for the given words\n",
        "# cats\n",
        "# trouble\n",
        "# troubling\n",
        "# troubled\n",
        "# having\n",
        "# Corriendo\n",
        "# at\n",
        "# was\n",
        "import nltk\n",
        "from nltk.stem import PorterStemmer\n",
        "from nltk.stem import WordNetLemmatizer\n",
        "stemmer = PorterStemmer()\n",
        "lemmatizer = WordNetLemmatizer()\n",
        "words = [\"cats\", \"trouble\", \"troubling\", \"troubled\", \"having\", \"corriendo\", \"at\", \"was\"]\n",
        "for word in words:\n",
        "    print('Word :', word, \"\\nStemmed Word :\", stemmer.stem(word), '\\nLemma :', lemmatizer.lemmatize(word), end='\\n\\n')"
      ]
    },
    {
      "cell_type": "code",
      "source": [
        ""
      ],
      "metadata": {
        "id": "X0GtvRgyWl-5"
      },
      "execution_count": null,
      "outputs": []
    },
    {
      "cell_type": "code",
      "source": [
        "import nltk\n",
        "nltk.download('wordnet')\n",
        "nltk.download('omw-1.4')"
      ],
      "metadata": {
        "colab": {
          "base_uri": "https://localhost:8080/"
        },
        "id": "fOaQp8ezWmIt",
        "outputId": "0502eeaf-e9d6-435f-9f44-2006da97c430"
      },
      "execution_count": 4,
      "outputs": [
        {
          "output_type": "stream",
          "name": "stderr",
          "text": [
            "[nltk_data] Downloading package wordnet to /root/nltk_data...\n",
            "[nltk_data]   Package wordnet is already up-to-date!\n",
            "[nltk_data] Downloading package omw-1.4 to /root/nltk_data...\n"
          ]
        },
        {
          "output_type": "execute_result",
          "data": {
            "text/plain": [
              "True"
            ]
          },
          "metadata": {},
          "execution_count": 4
        }
      ]
    }
  ]
}