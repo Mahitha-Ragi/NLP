{
  "nbformat": 4,
  "nbformat_minor": 0,
  "metadata": {
    "colab": {
      "name": "Untitled6.ipynb",
      "provenance": [],
      "authorship_tag": "ABX9TyM4qD/VgZ71GBjzToYbjXtH",
      "include_colab_link": true
    },
    "kernelspec": {
      "name": "python3",
      "display_name": "Python 3"
    },
    "language_info": {
      "name": "python"
    }
  },
  "cells": [
    {
      "cell_type": "markdown",
      "metadata": {
        "id": "view-in-github",
        "colab_type": "text"
      },
      "source": [
        "<a href=\"https://colab.research.google.com/github/Mahitha-Ragi/NLP/blob/main/Untitled6.ipynb\" target=\"_parent\"><img src=\"https://colab.research.google.com/assets/colab-badge.svg\" alt=\"Open In Colab\"/></a>"
      ]
    },
    {
      "cell_type": "markdown",
      "source": [
        "PARAGRAPH :- Are you fascinated by the amount of text data available on the internet? Are you looking for ways to work with this text data but aren’t sure where to begin? Machines, after all, recognize numbers, not the letters of our language. And that can be a tricky landscape to navigate in machine learning. Solving an NLP problem is a multi-stage process. We need to clean the unstructured text data first before we can even think about getting to the modelling stage. Cleaning the data consists of a few key steps.\n",
        "\n"
      ],
      "metadata": {
        "id": "ZjcJs1sTbHvt"
      }
    },
    {
      "cell_type": "code",
      "source": [
        "from nltk.tokenize import word_tokenize, sent_tokenize\n",
        "import nltk\n",
        "nltk.download('punkt')\n",
        "nltk.download('wordnet')\n",
        "nltk.download('omw-1.4')"
      ],
      "metadata": {
        "colab": {
          "base_uri": "https://localhost:8080/"
        },
        "id": "xIaVDpOkbMJA",
        "outputId": "9d6b33a5-e2ab-4ea7-f3d9-3d1aec662653"
      },
      "execution_count": 1,
      "outputs": [
        {
          "output_type": "stream",
          "name": "stderr",
          "text": [
            "[nltk_data] Downloading package punkt to /root/nltk_data...\n",
            "[nltk_data]   Unzipping tokenizers/punkt.zip.\n",
            "[nltk_data] Downloading package wordnet to /root/nltk_data...\n",
            "[nltk_data] Downloading package omw-1.4 to /root/nltk_data...\n"
          ]
        },
        {
          "output_type": "execute_result",
          "data": {
            "text/plain": [
              "True"
            ]
          },
          "metadata": {},
          "execution_count": 1
        }
      ]
    },
    {
      "cell_type": "code",
      "source": [
        "paragraph = \"Are you fascinated by the amount of text data available on the internet? Are you looking for ways to work with this text data but aren’t sure where to begin? Machines, after all, recognize numbers, not the letters of our language. And that can be a tricky landscape to navigate in machine learning.Solving an NLP problem is a multi-stage process. We need to clean the unstructured text data first before we can even think about getting to the modelling stage. Cleaning the data consists of a few key steps.\"\n",
        "sent_tokenize(paragraph)"
      ],
      "metadata": {
        "colab": {
          "base_uri": "https://localhost:8080/"
        },
        "id": "HeKr-K_jbTR_",
        "outputId": "73eb7f33-428e-416b-ebbb-02212189cdc1"
      },
      "execution_count": 2,
      "outputs": [
        {
          "output_type": "execute_result",
          "data": {
            "text/plain": [
              "['Are you fascinated by the amount of text data available on the internet?',\n",
              " 'Are you looking for ways to work with this text data but aren’t sure where to begin?',\n",
              " 'Machines, after all, recognize numbers, not the letters of our language.',\n",
              " 'And that can be a tricky landscape to navigate in machine learning.Solving an NLP problem is a multi-stage process.',\n",
              " 'We need to clean the unstructured text data first before we can even think about getting to the modelling stage.',\n",
              " 'Cleaning the data consists of a few key steps.']"
            ]
          },
          "metadata": {},
          "execution_count": 2
        }
      ]
    },
    {
      "cell_type": "markdown",
      "source": [
        "Question 2 : Split the above paragraph into words"
      ],
      "metadata": {
        "id": "1tmfZf7WbZLz"
      }
    },
    {
      "cell_type": "code",
      "source": [
        "word_tokenize(paragraph)"
      ],
      "metadata": {
        "colab": {
          "base_uri": "https://localhost:8080/"
        },
        "id": "1SqYI2UrbaPm",
        "outputId": "79a7bbc6-dfd9-4798-f2fd-57514de81dcf"
      },
      "execution_count": 3,
      "outputs": [
        {
          "output_type": "execute_result",
          "data": {
            "text/plain": [
              "['Are',\n",
              " 'you',\n",
              " 'fascinated',\n",
              " 'by',\n",
              " 'the',\n",
              " 'amount',\n",
              " 'of',\n",
              " 'text',\n",
              " 'data',\n",
              " 'available',\n",
              " 'on',\n",
              " 'the',\n",
              " 'internet',\n",
              " '?',\n",
              " 'Are',\n",
              " 'you',\n",
              " 'looking',\n",
              " 'for',\n",
              " 'ways',\n",
              " 'to',\n",
              " 'work',\n",
              " 'with',\n",
              " 'this',\n",
              " 'text',\n",
              " 'data',\n",
              " 'but',\n",
              " 'aren',\n",
              " '’',\n",
              " 't',\n",
              " 'sure',\n",
              " 'where',\n",
              " 'to',\n",
              " 'begin',\n",
              " '?',\n",
              " 'Machines',\n",
              " ',',\n",
              " 'after',\n",
              " 'all',\n",
              " ',',\n",
              " 'recognize',\n",
              " 'numbers',\n",
              " ',',\n",
              " 'not',\n",
              " 'the',\n",
              " 'letters',\n",
              " 'of',\n",
              " 'our',\n",
              " 'language',\n",
              " '.',\n",
              " 'And',\n",
              " 'that',\n",
              " 'can',\n",
              " 'be',\n",
              " 'a',\n",
              " 'tricky',\n",
              " 'landscape',\n",
              " 'to',\n",
              " 'navigate',\n",
              " 'in',\n",
              " 'machine',\n",
              " 'learning.Solving',\n",
              " 'an',\n",
              " 'NLP',\n",
              " 'problem',\n",
              " 'is',\n",
              " 'a',\n",
              " 'multi-stage',\n",
              " 'process',\n",
              " '.',\n",
              " 'We',\n",
              " 'need',\n",
              " 'to',\n",
              " 'clean',\n",
              " 'the',\n",
              " 'unstructured',\n",
              " 'text',\n",
              " 'data',\n",
              " 'first',\n",
              " 'before',\n",
              " 'we',\n",
              " 'can',\n",
              " 'even',\n",
              " 'think',\n",
              " 'about',\n",
              " 'getting',\n",
              " 'to',\n",
              " 'the',\n",
              " 'modelling',\n",
              " 'stage',\n",
              " '.',\n",
              " 'Cleaning',\n",
              " 'the',\n",
              " 'data',\n",
              " 'consists',\n",
              " 'of',\n",
              " 'a',\n",
              " 'few',\n",
              " 'key',\n",
              " 'steps',\n",
              " '.']"
            ]
          },
          "metadata": {},
          "execution_count": 3
        }
      ]
    }
  ]
}